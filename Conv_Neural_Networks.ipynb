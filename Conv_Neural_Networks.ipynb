{
  "nbformat": 4,
  "nbformat_minor": 0,
  "metadata": {
    "colab": {
      "provenance": [],
      "authorship_tag": "ABX9TyNq1kLZ+hT8I2lkOmdRb2vs",
      "include_colab_link": true
    },
    "kernelspec": {
      "name": "python3",
      "display_name": "Python 3"
    },
    "language_info": {
      "name": "python"
    }
  },
  "cells": [
    {
      "cell_type": "markdown",
      "metadata": {
        "id": "view-in-github",
        "colab_type": "text"
      },
      "source": [
        "<a href=\"https://colab.research.google.com/github/Sajag28/Covolutional-Neural-Networks/blob/main/Conv_Neural_Networks.ipynb\" target=\"_parent\"><img src=\"https://colab.research.google.com/assets/colab-badge.svg\" alt=\"Open In Colab\"/></a>"
      ]
    },
    {
      "cell_type": "code",
      "execution_count": null,
      "metadata": {
        "id": "I1FaOExDGHtS"
      },
      "outputs": [],
      "source": [
        "import os\n",
        "os.environ['TF_CPP_MIN_LOG_LEVEL']='2'\n",
        "import tensorflow as tf\n",
        "from tensorflow import keras\n",
        "from tensorflow.keras.datasets import cifar10\n",
        "keras.layers=tf.keras.layers\n",
        "(x_train,y_train),(x_test,y_test)=cifar10.load_data()\n",
        "x_train=x_train.astype(\"float32\")/255.0\n",
        "x_test=x_test.astype(\"float32\")/255.0\n",
        "\n",
        "model=keras.Sequential(\n",
        "    [\n",
        "        keras.Input(shape=(32,32,3)),\n",
        "        keras.layers.Conv2D(32,3,padding='valid',activation='relu'),\n",
        "        keras.layers.MaxPooling2D(pool_size=(2,2)),\n",
        "        keras.layers.Conv2D(64,3,activation='relu'),\n",
        "        keras.layers.MaxPooling2D(),\n",
        "        keras.layers.Conv2D(128,3,activation='relu'),\n",
        "        keras.layers.Flatten(),\n",
        "        keras.layers.Dense(64,activation='relu'),\n",
        "        keras.layers.Dense(10),\n",
        "\n",
        "\n",
        "    ]\n",
        ")\n",
        "print(model.summary())\n",
        "model.compile(\n",
        "    loss=keras.losses.SparseCategoricalCrossentropy(from_logits=True),\n",
        "    optimizer=keras.optimizers.Adam(lr=3e-4),\n",
        "    metrics=[\"accuracy\"],\n",
        ")\n",
        "model.fit(x_train,y_train,batch_size=64,epochs=18,verbose=2)\n",
        "model.evaluate(x_test,y_test,batch_size=64,verbose=2)\n"
      ]
    },
    {
      "cell_type": "code",
      "source": [
        "#Adding l2 Regularization and dropout to the model\n",
        "import os\n",
        "os.environ['TF_CPP_MIN_LOG_LEVEL']='2'\n",
        "import tensorflow as tf\n",
        "from tensorflow import keras\n",
        "from tensorflow.keras.datasets import cifar10\n",
        "from tensorflow.keras import regularizers\n",
        "keras.layers=tf.keras.layers\n",
        "(x_train,y_train),(x_test,y_test)=cifar10.load_data()\n",
        "x_train=x_train.astype(\"float32\")/255.0\n",
        "x_test=x_test.astype(\"float32\")/255.0\n",
        "\n",
        "def my_model():\n",
        "    inputs = keras.Input(shape=(32, 32, 3))\n",
        "    x = keras.layers.Conv2D(32, 3,padding='same',kernel_regularizer=regularizers.l2(0.01))(inputs)\n",
        "    x = keras.layers.BatchNormalization()(x)\n",
        "    x = keras.activations.relu(x)\n",
        "    x = keras.layers.MaxPooling2D()(x)\n",
        "    x = keras.layers.Conv2D(64, 3,padding='same',kernel_regularizer=regularizers.l2(0.01))(x)\n",
        "    x = keras.layers.BatchNormalization()(x)\n",
        "    x = keras.activations.relu(x)\n",
        "    x = keras.layers.MaxPooling2D()(x)\n",
        "    x = keras.layers.Conv2D(128, 3,padding='same',kernel_regularizer=regularizers.l2(0.01))(x)\n",
        "    x = keras.layers.BatchNormalization()(x)\n",
        "    x = keras.activations.relu(x)\n",
        "    x = keras.layers.Flatten()(x)\n",
        "    x = keras.layers.Dense(64, activation=\"relu\",kernel_regularizer=regularizers.l2(0.01))(x)\n",
        "    x=keras.layers.Dropout(0.5)(x)\n",
        "    outputs = keras.layers.Dense(10)(x)\n",
        "    model = keras.Model(inputs=inputs, outputs=outputs)\n",
        "    return model\n",
        "\n",
        "\n",
        "model = my_model()\n",
        "model.compile(\n",
        "    loss=keras.losses.SparseCategoricalCrossentropy(from_logits=True),\n",
        "    optimizer=keras.optimizers.Adam(lr=3e-4),\n",
        "    metrics=[\"accuracy\"],\n",
        ")\n",
        "\n",
        "model.fit(x_train, y_train, batch_size=64, epochs=150, verbose=2)\n",
        "model.evaluate(x_test, y_test, batch_size=64, verbose=2)\n"
      ],
      "metadata": {
        "id": "AukvNlpoTIfo"
      },
      "execution_count": null,
      "outputs": []
    }
  ]
}